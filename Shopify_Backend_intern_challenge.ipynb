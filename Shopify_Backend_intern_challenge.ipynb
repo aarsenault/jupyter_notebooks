{
 "cells": [
  {
   "cell_type": "markdown",
   "metadata": {},
   "source": [
    "# Shopify Backend Intern Challenge"
   ]
  },
  {
   "cell_type": "code",
   "execution_count": 1,
   "metadata": {},
   "outputs": [],
   "source": [
    "import requests\n",
    "import json\n",
    "from pprint import pprint"
   ]
  },
  {
   "cell_type": "code",
   "execution_count": 2,
   "metadata": {},
   "outputs": [],
   "source": [
    "API_URL = \"https://backend-challenge-summer-2018.herokuapp.com/challenges.json?id=1&page=1\" \n",
    "split_URL = API_URL.rpartition(\"=\")"
   ]
  },
  {
   "cell_type": "code",
   "execution_count": 3,
   "metadata": {},
   "outputs": [],
   "source": [
    "def fetch(url): \n",
    "    r = requests.get(url)\n",
    "\n",
    "    # will throw an error for status > 400\n",
    "    r.raise_for_status()\n",
    "\n",
    "    return r.json()"
   ]
  },
  {
   "cell_type": "code",
   "execution_count": 4,
   "metadata": {},
   "outputs": [],
   "source": [
    "response = fetch(API_URL)\n",
    "total = response['pagination']['total']\n",
    "max_pages =  total / response['pagination']['per_page']\n",
    "\n",
    "# account for non-full pages\n",
    "if max_pages % 1 != 0:\n",
    "    max_pages += 1"
   ]
  },
  {
   "cell_type": "code",
   "execution_count": 5,
   "metadata": {},
   "outputs": [],
   "source": [
    "unflattened_nodes = []\n",
    "page = 1\n",
    "\n",
    "while (page <= max_pages):\n",
    "    unflattened_nodes.append(response['menus'])\n",
    "    page += 1\n",
    "    \n",
    "#   make another call\n",
    "    response = fetch(split_URL[0] + split_URL[1] + str(page))\n",
    "    \n",
    "nodes = [item for sublist in unflattened_nodes for item in sublist]"
   ]
  },
  {
   "cell_type": "code",
   "execution_count": 6,
   "metadata": {},
   "outputs": [],
   "source": [
    "# recurses up to find root node\n",
    "# because max depth = 4, O(n) ~= Const\n",
    "def find_root(node_id, nodes):\n",
    "\n",
    "    if ('parent_id' in nodes[node_id -1]):\n",
    "        # assumes each node has at most one parent\n",
    "        \n",
    "        return find_root(nodes[node_id - 1]['parent_id'], nodes)\n",
    "    \n",
    "    else:\n",
    "        return node_id\n",
    "         "
   ]
  },
  {
   "cell_type": "code",
   "execution_count": 7,
   "metadata": {},
   "outputs": [],
   "source": [
    "# make set of all root nodes \n",
    "roots = set()\n",
    "for node in nodes:\n",
    "    root = find_root(node['id'], nodes)\n",
    "    roots.add(root)"
   ]
  },
  {
   "cell_type": "code",
   "execution_count": 8,
   "metadata": {},
   "outputs": [],
   "source": [
    "# recursively search for all children nodes\n",
    "def map_children(node_id, nodes, all_children= []): \n",
    "    node_children = nodes[node_id - 1]['child_ids']\n",
    "    \n",
    "    # If empty child array \n",
    "    if (not node_children):\n",
    "        return \n",
    "    \n",
    "    else:\n",
    "        for child in node_children:\n",
    "            if child not in all_children:\n",
    "                all_children.append(child)\n",
    "                map_children(child, nodes, all_children)\n",
    "\n",
    "    return all_children   \n",
    "              "
   ]
  },
  {
   "cell_type": "code",
   "execution_count": 9,
   "metadata": {},
   "outputs": [],
   "source": [
    "checked = []\n",
    "output = {\n",
    "    \n",
    "    \"valid_menus\": [],\n",
    "\n",
    "    \"invalid_menus\": [],\n",
    "}\n",
    "\n",
    "for root in roots:\n",
    "    \n",
    "    # find all children of root\n",
    "    children = map_children(root, nodes, all_children=[])\n",
    "\n",
    "    # validate\n",
    "    valid = (root not in children)\n",
    "\n",
    "    # add to output schema\n",
    "    if (valid):\n",
    "        output[\"valid_menus\"].append( {\"root_id\": root, \"children\": children})\n",
    "    else:\n",
    "        output[\"invalid_menus\"].append( {\"root_id\": root, \"children\": children})\n",
    "\n"
   ]
  },
  {
   "cell_type": "code",
   "execution_count": 10,
   "metadata": {},
   "outputs": [
    {
     "name": "stdout",
     "output_type": "stream",
     "text": [
      "{'invalid_menus': [{'children': [3, 7, 15, 1], 'root_id': 1}],\n",
      " 'valid_menus': [{'children': [4, 5, 6, 8], 'root_id': 2},\n",
      "                 {'children': [10, 11, 12, 13, 14], 'root_id': 9}]}\n"
     ]
    }
   ],
   "source": [
    "pprint(output)"
   ]
  },
  {
   "cell_type": "markdown",
   "metadata": {},
   "source": [
    "# Extra challenge\n",
    "\n",
    "For the extra challenge simply change `API_URL` to: \n",
    "\n",
    "`\"https://backend-challenge-summer-2018.herokuapp.com/challenges.json?id=2&page=1\"` \n",
    "\n",
    "and re-run. This will output the following:\n",
    "\n",
    "\n",
    "```\n",
    "{'invalid_menus': [{'children': [3, 5, 18, 4, 6, 7, 20, 1, 19], 'root_id': 1}],\n",
    " 'valid_menus': [{'children': [8, 9, 10, 11], 'root_id': 2},\n",
    "                 {'children': [13, 14, 15, 16, 17, 21], 'root_id': 12}]}\n",
    "```"
   ]
  }
 ],
 "metadata": {
  "kernelspec": {
   "display_name": "Python 3",
   "language": "python",
   "name": "python3"
  },
  "language_info": {
   "codemirror_mode": {
    "name": "ipython",
    "version": 3
   },
   "file_extension": ".py",
   "mimetype": "text/x-python",
   "name": "python",
   "nbconvert_exporter": "python",
   "pygments_lexer": "ipython3",
   "version": "3.6.3"
  }
 },
 "nbformat": 4,
 "nbformat_minor": 2
}
